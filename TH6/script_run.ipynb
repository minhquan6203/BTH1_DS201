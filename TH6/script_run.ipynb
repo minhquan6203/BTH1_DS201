{
  "cells": [
    {
      "cell_type": "code",
      "execution_count": 1,
      "metadata": {
        "id": "l-XZ9_ZkpVJ8"
      },
      "outputs": [
        {
          "name": "stdout",
          "output_type": "stream",
          "text": [
            "Collecting opendatasets\n",
            "  Downloading opendatasets-0.1.22-py3-none-any.whl (15 kB)\n",
            "Requirement already satisfied: tqdm in c:\\users\\admin\\appdata\\local\\programs\\python\\python310\\lib\\site-packages (from opendatasets) (4.65.0)\n",
            "Collecting kaggle (from opendatasets)\n",
            "  Downloading kaggle-1.6.1.tar.gz (84 kB)\n",
            "     ---------------------------------------- 0.0/84.5 kB ? eta -:--:--\n",
            "     ---------------------------------------- 84.5/84.5 kB 2.4 MB/s eta 0:00:00\n",
            "  Installing build dependencies: started\n",
            "  Installing build dependencies: finished with status 'done'\n",
            "  Getting requirements to build wheel: started\n",
            "  Getting requirements to build wheel: finished with status 'done'\n",
            "  Preparing metadata (pyproject.toml): started\n",
            "  Preparing metadata (pyproject.toml): finished with status 'done'\n",
            "Requirement already satisfied: click in c:\\users\\admin\\appdata\\local\\programs\\python\\python310\\lib\\site-packages (from opendatasets) (8.1.7)\n",
            "Requirement already satisfied: colorama in c:\\users\\admin\\appdata\\local\\programs\\python\\python310\\lib\\site-packages (from click->opendatasets) (0.4.6)\n",
            "Requirement already satisfied: six>=1.10 in c:\\users\\admin\\appdata\\local\\programs\\python\\python310\\lib\\site-packages (from kaggle->opendatasets) (1.16.0)\n",
            "Requirement already satisfied: certifi in c:\\users\\admin\\appdata\\local\\programs\\python\\python310\\lib\\site-packages (from kaggle->opendatasets) (2023.5.7)\n",
            "Requirement already satisfied: python-dateutil in c:\\users\\admin\\appdata\\local\\programs\\python\\python310\\lib\\site-packages (from kaggle->opendatasets) (2.8.2)\n",
            "Requirement already satisfied: requests in c:\\users\\admin\\appdata\\local\\programs\\python\\python310\\lib\\site-packages (from kaggle->opendatasets) (2.25.1)\n",
            "Collecting python-slugify (from kaggle->opendatasets)\n",
            "  Downloading python_slugify-8.0.1-py2.py3-none-any.whl (9.7 kB)\n",
            "Requirement already satisfied: urllib3 in c:\\users\\admin\\appdata\\local\\programs\\python\\python310\\lib\\site-packages (from kaggle->opendatasets) (1.26.16)\n",
            "Requirement already satisfied: bleach in c:\\users\\admin\\appdata\\local\\programs\\python\\python310\\lib\\site-packages (from kaggle->opendatasets) (6.0.0)\n",
            "Requirement already satisfied: webencodings in c:\\users\\admin\\appdata\\local\\programs\\python\\python310\\lib\\site-packages (from bleach->kaggle->opendatasets) (0.5.1)\n",
            "Collecting text-unidecode>=1.3 (from python-slugify->kaggle->opendatasets)\n",
            "  Downloading text_unidecode-1.3-py2.py3-none-any.whl (78 kB)\n",
            "     ---------------------------------------- 0.0/78.2 kB ? eta -:--:--\n",
            "     ---------------------------------------- 78.2/78.2 kB 4.2 MB/s eta 0:00:00\n",
            "Requirement already satisfied: chardet<5,>=3.0.2 in c:\\users\\admin\\appdata\\local\\programs\\python\\python310\\lib\\site-packages (from requests->kaggle->opendatasets) (4.0.0)\n",
            "Requirement already satisfied: idna<3,>=2.5 in c:\\users\\admin\\appdata\\local\\programs\\python\\python310\\lib\\site-packages (from requests->kaggle->opendatasets) (2.10)\n",
            "Building wheels for collected packages: kaggle\n",
            "  Building wheel for kaggle (pyproject.toml): started\n",
            "  Building wheel for kaggle (pyproject.toml): finished with status 'done'\n",
            "  Created wheel for kaggle: filename=kaggle-1.6.1-py3-none-any.whl size=111916 sha256=70cd3f01b36235b3b7e9c5d7904156083e46a2620bad76f6a9b2b9e9107d0a91\n",
            "  Stored in directory: c:\\users\\admin\\appdata\\local\\pip\\cache\\wheels\\a0\\83\\bd\\ef72ad59f675b6bc41e6708814eae8e4b9ae28a5401439fe4b\n",
            "Successfully built kaggle\n",
            "Installing collected packages: text-unidecode, python-slugify, kaggle, opendatasets\n",
            "Successfully installed kaggle-1.6.1 opendatasets-0.1.22 python-slugify-8.0.1 text-unidecode-1.3\n"
          ]
        },
        {
          "name": "stderr",
          "output_type": "stream",
          "text": [
            "WARNING: Ignoring invalid distribution -illow (c:\\users\\admin\\appdata\\local\\programs\\python\\python310\\lib\\site-packages)\n",
            "WARNING: Ignoring invalid distribution -illow (c:\\users\\admin\\appdata\\local\\programs\\python\\python310\\lib\\site-packages)\n",
            "\n",
            "[notice] A new release of pip is available: 23.3.1 -> 23.3.2\n",
            "[notice] To update, run: python.exe -m pip install --upgrade pip\n"
          ]
        }
      ],
      "source": [
        "!pip install opendatasets"
      ]
    },
    {
      "cell_type": "code",
      "execution_count": 2,
      "metadata": {
        "colab": {
          "base_uri": "https://localhost:8080/"
        },
        "id": "IV0B5OzprG2Y",
        "outputId": "37bb3ce1-f156-4dba-d662-ab8aecf8af1a"
      },
      "outputs": [
        {
          "name": "stdout",
          "output_type": "stream",
          "text": [
            "Collecting streamlit\n",
            "  Downloading streamlit-1.29.0-py2.py3-none-any.whl.metadata (8.2 kB)\n",
            "Collecting altair<6,>=4.0 (from streamlit)\n",
            "  Downloading altair-5.2.0-py3-none-any.whl.metadata (8.7 kB)\n",
            "Collecting blinker<2,>=1.0.0 (from streamlit)\n",
            "  Downloading blinker-1.7.0-py3-none-any.whl.metadata (1.9 kB)\n",
            "Collecting cachetools<6,>=4.0 (from streamlit)\n",
            "  Downloading cachetools-5.3.2-py3-none-any.whl.metadata (5.2 kB)\n",
            "Requirement already satisfied: click<9,>=7.0 in c:\\users\\admin\\appdata\\local\\programs\\python\\python310\\lib\\site-packages (from streamlit) (8.1.7)\n",
            "Collecting importlib-metadata<7,>=1.4 (from streamlit)\n",
            "  Downloading importlib_metadata-6.11.0-py3-none-any.whl.metadata (4.9 kB)\n",
            "Requirement already satisfied: numpy<2,>=1.19.3 in c:\\users\\admin\\appdata\\local\\programs\\python\\python310\\lib\\site-packages (from streamlit) (1.25.1)\n",
            "Requirement already satisfied: packaging<24,>=16.8 in c:\\users\\admin\\appdata\\local\\programs\\python\\python310\\lib\\site-packages (from streamlit) (23.1)\n",
            "Requirement already satisfied: pandas<3,>=1.3.0 in c:\\users\\admin\\appdata\\local\\programs\\python\\python310\\lib\\site-packages (from streamlit) (2.0.3)\n",
            "Requirement already satisfied: pillow<11,>=7.1.0 in c:\\users\\admin\\appdata\\local\\programs\\python\\python310\\lib\\site-packages (from streamlit) (9.0.1)\n",
            "Collecting protobuf<5,>=3.20 (from streamlit)\n",
            "  Downloading protobuf-4.25.1-cp310-abi3-win_amd64.whl.metadata (541 bytes)\n",
            "Requirement already satisfied: pyarrow>=6.0 in c:\\users\\admin\\appdata\\local\\programs\\python\\python310\\lib\\site-packages (from streamlit) (12.0.1)\n",
            "Requirement already satisfied: python-dateutil<3,>=2.7.3 in c:\\users\\admin\\appdata\\local\\programs\\python\\python310\\lib\\site-packages (from streamlit) (2.8.2)\n",
            "Collecting requests<3,>=2.27 (from streamlit)\n",
            "  Downloading requests-2.31.0-py3-none-any.whl.metadata (4.6 kB)\n",
            "Collecting rich<14,>=10.14.0 (from streamlit)\n",
            "  Downloading rich-13.7.0-py3-none-any.whl.metadata (18 kB)\n",
            "Collecting tenacity<9,>=8.1.0 (from streamlit)\n",
            "  Downloading tenacity-8.2.3-py3-none-any.whl.metadata (1.0 kB)\n",
            "Collecting toml<2,>=0.10.1 (from streamlit)\n",
            "  Downloading toml-0.10.2-py2.py3-none-any.whl (16 kB)\n",
            "Requirement already satisfied: typing-extensions<5,>=4.3.0 in c:\\users\\admin\\appdata\\local\\programs\\python\\python310\\lib\\site-packages (from streamlit) (4.7.1)\n",
            "Collecting tzlocal<6,>=1.1 (from streamlit)\n",
            "  Downloading tzlocal-5.2-py3-none-any.whl.metadata (7.8 kB)\n",
            "Collecting validators<1,>=0.2 (from streamlit)\n",
            "  Downloading validators-0.22.0-py3-none-any.whl.metadata (4.7 kB)\n",
            "Collecting gitpython!=3.1.19,<4,>=3.0.7 (from streamlit)\n",
            "  Downloading GitPython-3.1.40-py3-none-any.whl.metadata (12 kB)\n",
            "Collecting pydeck<1,>=0.8.0b4 (from streamlit)\n",
            "  Downloading pydeck-0.8.1b0-py2.py3-none-any.whl (4.8 MB)\n",
            "     ---------------------------------------- 0.0/4.8 MB ? eta -:--:--\n",
            "     ---------------------------------------- 0.0/4.8 MB ? eta -:--:--\n",
            "      --------------------------------------- 0.1/4.8 MB 1.2 MB/s eta 0:00:05\n",
            "      --------------------------------------- 0.1/4.8 MB 1.2 MB/s eta 0:00:05\n",
            "      --------------------------------------- 0.1/4.8 MB 1.2 MB/s eta 0:00:05\n",
            "      --------------------------------------- 0.1/4.8 MB 1.2 MB/s eta 0:00:05\n",
            "      --------------------------------------- 0.1/4.8 MB 1.2 MB/s eta 0:00:05\n",
            "     - -------------------------------------- 0.1/4.8 MB 426.7 kB/s eta 0:00:11\n",
            "     -- ------------------------------------- 0.3/4.8 MB 776.2 kB/s eta 0:00:06\n",
            "     --- ------------------------------------ 0.4/4.8 MB 983.6 kB/s eta 0:00:05\n",
            "     --- ------------------------------------ 0.4/4.8 MB 983.6 kB/s eta 0:00:05\n",
            "     ----- ---------------------------------- 0.7/4.8 MB 1.5 MB/s eta 0:00:03\n",
            "     --------- ------------------------------ 1.2/4.8 MB 2.2 MB/s eta 0:00:02\n",
            "     -------------- ------------------------- 1.7/4.8 MB 3.0 MB/s eta 0:00:02\n",
            "     ---------------------- ----------------- 2.6/4.8 MB 4.3 MB/s eta 0:00:01\n",
            "     -------------------------------- ------- 3.9/4.8 MB 5.9 MB/s eta 0:00:01\n",
            "     ------------------------------------- -- 4.5/4.8 MB 6.5 MB/s eta 0:00:01\n",
            "     ---------------------------------------- 4.8/4.8 MB 6.7 MB/s eta 0:00:00\n",
            "Requirement already satisfied: tornado<7,>=6.0.3 in c:\\users\\admin\\appdata\\roaming\\python\\python310\\site-packages (from streamlit) (6.3.2)\n",
            "Collecting watchdog>=2.1.5 (from streamlit)\n",
            "  Downloading watchdog-3.0.0-py3-none-win_amd64.whl (82 kB)\n",
            "     ---------------------------------------- 0.0/82.0 kB ? eta -:--:--\n",
            "     ---------------------------------------- 82.0/82.0 kB ? eta 0:00:00\n",
            "Requirement already satisfied: jinja2 in c:\\users\\admin\\appdata\\local\\programs\\python\\python310\\lib\\site-packages (from altair<6,>=4.0->streamlit) (3.1.2)\n",
            "Requirement already satisfied: jsonschema>=3.0 in c:\\users\\admin\\appdata\\local\\programs\\python\\python310\\lib\\site-packages (from altair<6,>=4.0->streamlit) (4.18.4)\n",
            "Collecting toolz (from altair<6,>=4.0->streamlit)\n",
            "  Downloading toolz-0.12.0-py3-none-any.whl (55 kB)\n",
            "     ---------------------------------------- 0.0/55.8 kB ? eta -:--:--\n",
            "     ---------------------------------------- 55.8/55.8 kB ? eta 0:00:00\n",
            "Requirement already satisfied: colorama in c:\\users\\admin\\appdata\\local\\programs\\python\\python310\\lib\\site-packages (from click<9,>=7.0->streamlit) (0.4.6)\n",
            "Collecting gitdb<5,>=4.0.1 (from gitpython!=3.1.19,<4,>=3.0.7->streamlit)\n",
            "  Downloading gitdb-4.0.11-py3-none-any.whl.metadata (1.2 kB)\n",
            "Collecting zipp>=0.5 (from importlib-metadata<7,>=1.4->streamlit)\n",
            "  Downloading zipp-3.17.0-py3-none-any.whl.metadata (3.7 kB)\n",
            "Requirement already satisfied: pytz>=2020.1 in c:\\users\\admin\\appdata\\local\\programs\\python\\python310\\lib\\site-packages (from pandas<3,>=1.3.0->streamlit) (2023.3)\n",
            "Requirement already satisfied: tzdata>=2022.1 in c:\\users\\admin\\appdata\\local\\programs\\python\\python310\\lib\\site-packages (from pandas<3,>=1.3.0->streamlit) (2023.3)\n",
            "Requirement already satisfied: six>=1.5 in c:\\users\\admin\\appdata\\local\\programs\\python\\python310\\lib\\site-packages (from python-dateutil<3,>=2.7.3->streamlit) (1.16.0)\n",
            "Requirement already satisfied: charset-normalizer<4,>=2 in c:\\users\\admin\\appdata\\local\\programs\\python\\python310\\lib\\site-packages (from requests<3,>=2.27->streamlit) (3.2.0)\n",
            "Requirement already satisfied: idna<4,>=2.5 in c:\\users\\admin\\appdata\\local\\programs\\python\\python310\\lib\\site-packages (from requests<3,>=2.27->streamlit) (2.10)\n",
            "Requirement already satisfied: urllib3<3,>=1.21.1 in c:\\users\\admin\\appdata\\local\\programs\\python\\python310\\lib\\site-packages (from requests<3,>=2.27->streamlit) (1.26.16)\n",
            "Requirement already satisfied: certifi>=2017.4.17 in c:\\users\\admin\\appdata\\local\\programs\\python\\python310\\lib\\site-packages (from requests<3,>=2.27->streamlit) (2023.5.7)\n",
            "Collecting markdown-it-py>=2.2.0 (from rich<14,>=10.14.0->streamlit)\n",
            "  Downloading markdown_it_py-3.0.0-py3-none-any.whl.metadata (6.9 kB)\n",
            "Requirement already satisfied: pygments<3.0.0,>=2.13.0 in c:\\users\\admin\\appdata\\roaming\\python\\python310\\site-packages (from rich<14,>=10.14.0->streamlit) (2.15.1)\n",
            "Collecting smmap<6,>=3.0.1 (from gitdb<5,>=4.0.1->gitpython!=3.1.19,<4,>=3.0.7->streamlit)\n",
            "  Downloading smmap-5.0.1-py3-none-any.whl.metadata (4.3 kB)\n",
            "Requirement already satisfied: MarkupSafe>=2.0 in c:\\users\\admin\\appdata\\local\\programs\\python\\python310\\lib\\site-packages (from jinja2->altair<6,>=4.0->streamlit) (2.1.3)\n",
            "Requirement already satisfied: attrs>=22.2.0 in c:\\users\\admin\\appdata\\local\\programs\\python\\python310\\lib\\site-packages (from jsonschema>=3.0->altair<6,>=4.0->streamlit) (23.1.0)\n",
            "Requirement already satisfied: jsonschema-specifications>=2023.03.6 in c:\\users\\admin\\appdata\\local\\programs\\python\\python310\\lib\\site-packages (from jsonschema>=3.0->altair<6,>=4.0->streamlit) (2023.7.1)\n",
            "Requirement already satisfied: referencing>=0.28.4 in c:\\users\\admin\\appdata\\local\\programs\\python\\python310\\lib\\site-packages (from jsonschema>=3.0->altair<6,>=4.0->streamlit) (0.30.0)\n",
            "Requirement already satisfied: rpds-py>=0.7.1 in c:\\users\\admin\\appdata\\local\\programs\\python\\python310\\lib\\site-packages (from jsonschema>=3.0->altair<6,>=4.0->streamlit) (0.9.2)\n",
            "Collecting mdurl~=0.1 (from markdown-it-py>=2.2.0->rich<14,>=10.14.0->streamlit)\n",
            "  Downloading mdurl-0.1.2-py3-none-any.whl (10.0 kB)\n",
            "Downloading streamlit-1.29.0-py2.py3-none-any.whl (8.4 MB)\n",
            "   ---------------------------------------- 0.0/8.4 MB ? eta -:--:--\n",
            "   ---- ----------------------------------- 0.9/8.4 MB 19.0 MB/s eta 0:00:01\n",
            "   ------- -------------------------------- 1.5/8.4 MB 15.9 MB/s eta 0:00:01\n",
            "   --------- ------------------------------ 2.0/8.4 MB 14.3 MB/s eta 0:00:01\n",
            "   ------------ --------------------------- 2.6/8.4 MB 13.9 MB/s eta 0:00:01\n",
            "   ------------- -------------------------- 2.9/8.4 MB 12.2 MB/s eta 0:00:01\n",
            "   --------------- ------------------------ 3.2/8.4 MB 11.2 MB/s eta 0:00:01\n",
            "   ------------------- -------------------- 4.2/8.4 MB 12.6 MB/s eta 0:00:01\n",
            "   ------------------------ --------------- 5.1/8.4 MB 13.7 MB/s eta 0:00:01\n",
            "   -------------------------- ------------- 5.7/8.4 MB 13.4 MB/s eta 0:00:01\n",
            "   ------------------------------ --------- 6.4/8.4 MB 13.6 MB/s eta 0:00:01\n",
            "   ---------------------------------- ----- 7.3/8.4 MB 14.1 MB/s eta 0:00:01\n",
            "   -------------------------------------- - 8.1/8.4 MB 14.8 MB/s eta 0:00:01\n",
            "   ---------------------------------------- 8.4/8.4 MB 14.4 MB/s eta 0:00:00\n",
            "Downloading altair-5.2.0-py3-none-any.whl (996 kB)\n",
            "   ---------------------------------------- 0.0/996.9 kB ? eta -:--:--\n",
            "   -------------------------------- ------ 829.4/996.9 kB 17.4 MB/s eta 0:00:01\n",
            "   --------------------------------------- 996.9/996.9 kB 15.9 MB/s eta 0:00:00\n",
            "Downloading blinker-1.7.0-py3-none-any.whl (13 kB)\n",
            "Downloading cachetools-5.3.2-py3-none-any.whl (9.3 kB)\n",
            "Downloading GitPython-3.1.40-py3-none-any.whl (190 kB)\n",
            "   ---------------------------------------- 0.0/190.6 kB ? eta -:--:--\n",
            "   --------------------------------------- 190.6/190.6 kB 11.3 MB/s eta 0:00:00\n",
            "Downloading importlib_metadata-6.11.0-py3-none-any.whl (23 kB)\n",
            "Downloading protobuf-4.25.1-cp310-abi3-win_amd64.whl (413 kB)\n",
            "   ---------------------------------------- 0.0/413.4 kB ? eta -:--:--\n",
            "   --------------------------------------- 413.4/413.4 kB 13.0 MB/s eta 0:00:00\n",
            "Downloading requests-2.31.0-py3-none-any.whl (62 kB)\n",
            "   ---------------------------------------- 0.0/62.6 kB ? eta -:--:--\n",
            "   ---------------------------------------- 62.6/62.6 kB 3.3 MB/s eta 0:00:00\n",
            "Downloading rich-13.7.0-py3-none-any.whl (240 kB)\n",
            "   ---------------------------------------- 0.0/240.6 kB ? eta -:--:--\n",
            "   --------------------------------------- 240.6/240.6 kB 15.4 MB/s eta 0:00:00\n",
            "Downloading tenacity-8.2.3-py3-none-any.whl (24 kB)\n",
            "Downloading tzlocal-5.2-py3-none-any.whl (17 kB)\n",
            "Downloading validators-0.22.0-py3-none-any.whl (26 kB)\n",
            "Downloading gitdb-4.0.11-py3-none-any.whl (62 kB)\n",
            "   ---------------------------------------- 0.0/62.7 kB ? eta -:--:--\n",
            "   ---------------------------------------- 62.7/62.7 kB 1.7 MB/s eta 0:00:00\n",
            "Downloading markdown_it_py-3.0.0-py3-none-any.whl (87 kB)\n",
            "   ---------------------------------------- 0.0/87.5 kB ? eta -:--:--\n",
            "   ---------------------------------------- 87.5/87.5 kB 5.2 MB/s eta 0:00:00\n",
            "Downloading zipp-3.17.0-py3-none-any.whl (7.4 kB)\n",
            "Downloading smmap-5.0.1-py3-none-any.whl (24 kB)\n",
            "Installing collected packages: zipp, watchdog, validators, tzlocal, toolz, toml, tenacity, smmap, requests, protobuf, mdurl, cachetools, blinker, pydeck, markdown-it-py, importlib-metadata, gitdb, rich, gitpython, altair, streamlit\n",
            "  Attempting uninstall: requests\n",
            "    Found existing installation: requests 2.25.1\n",
            "    Uninstalling requests-2.25.1:\n",
            "      Successfully uninstalled requests-2.25.1\n",
            "Successfully installed altair-5.2.0 blinker-1.7.0 cachetools-5.3.2 gitdb-4.0.11 gitpython-3.1.40 importlib-metadata-6.11.0 markdown-it-py-3.0.0 mdurl-0.1.2 protobuf-4.25.1 pydeck-0.8.1b0 requests-2.31.0 rich-13.7.0 smmap-5.0.1 streamlit-1.29.0 tenacity-8.2.3 toml-0.10.2 toolz-0.12.0 tzlocal-5.2 validators-0.22.0 watchdog-3.0.0 zipp-3.17.0\n"
          ]
        },
        {
          "name": "stderr",
          "output_type": "stream",
          "text": [
            "WARNING: Ignoring invalid distribution -illow (c:\\users\\admin\\appdata\\local\\programs\\python\\python310\\lib\\site-packages)\n",
            "WARNING: Ignoring invalid distribution -illow (c:\\users\\admin\\appdata\\local\\programs\\python\\python310\\lib\\site-packages)\n",
            "\n",
            "[notice] A new release of pip is available: 23.3.1 -> 23.3.2\n",
            "[notice] To update, run: python.exe -m pip install --upgrade pip\n"
          ]
        }
      ],
      "source": [
        "!pip install streamlit"
      ]
    },
    {
      "cell_type": "code",
      "execution_count": 15,
      "metadata": {
        "colab": {
          "base_uri": "https://localhost:8080/"
        },
        "id": "QUPOHVmHxfQk",
        "outputId": "745d6c4e-1522-469e-83bb-1d0ccf57ad1c"
      },
      "outputs": [
        {
          "ename": "NameError",
          "evalue": "name 'q' is not defined",
          "output_type": "error",
          "traceback": [
            "\u001b[1;31m---------------------------------------------------------------------------\u001b[0m",
            "\u001b[1;31mNameError\u001b[0m                                 Traceback (most recent call last)",
            "Cell \u001b[1;32mIn[15], line 2\u001b[0m\n\u001b[0;32m      1\u001b[0m \u001b[38;5;28;01mimport\u001b[39;00m \u001b[38;5;21;01mwget\u001b[39;00m\n\u001b[1;32m----> 2\u001b[0m wget \u001b[38;5;241m-\u001b[39m\u001b[43mq\u001b[49m \u001b[38;5;241m-\u001b[39mO \u001b[38;5;241m-\u001b[39m \u001b[38;5;124m\"\u001b[39m\u001b[38;5;124mipv4.icanhazip.com\u001b[39m\u001b[38;5;124m\"\u001b[39m\n",
            "\u001b[1;31mNameError\u001b[0m: name 'q' is not defined"
          ]
        }
      ],
      "source": [
        "!wget -q -O - \"ipv4.icanhazip.com\""
      ]
    },
    {
      "cell_type": "code",
      "execution_count": 1,
      "metadata": {
        "colab": {
          "base_uri": "https://localhost:8080/"
        },
        "id": "MAB__Sfhx3TW",
        "outputId": "384087d1-5dc2-41fa-ba5c-acb4d7e2a895"
      },
      "outputs": [],
      "source": [
        "!streamlit run bai1.py & npx localtunnel --port 8501"
      ]
    }
  ],
  "metadata": {
    "colab": {
      "provenance": []
    },
    "kernelspec": {
      "display_name": "Python 3",
      "name": "python3"
    },
    "language_info": {
      "codemirror_mode": {
        "name": "ipython",
        "version": 3
      },
      "file_extension": ".py",
      "mimetype": "text/x-python",
      "name": "python",
      "nbconvert_exporter": "python",
      "pygments_lexer": "ipython3",
      "version": "3.10.8"
    }
  },
  "nbformat": 4,
  "nbformat_minor": 0
}
